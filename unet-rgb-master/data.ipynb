{
 "cells": [
  {
   "cell_type": "code",
   "execution_count": 1,
   "metadata": {},
   "outputs": [
    {
     "name": "stderr",
     "output_type": "stream",
     "text": [
      "Using TensorFlow backend.\n"
     ]
    },
    {
     "name": "stdout",
     "output_type": "stream",
     "text": [
      "Creating training images...\n",
      "22\n"
     ]
    },
    {
     "name": "stderr",
     "output_type": "stream",
     "text": [
      "D:\\Anaconda\\lib\\site-packages\\keras_preprocessing\\image\\utils.py:98: UserWarning: grayscale is deprecated. Please use color_mode = \"grayscale\"\n",
      "  warnings.warn('grayscale is deprecated. Please use '\n"
     ]
    },
    {
     "name": "stdout",
     "output_type": "stream",
     "text": [
      "Done: 0/22 images\n",
      "Done: 5/22 images\n",
      "Done: 10/22 images\n",
      "Done: 15/22 images\n",
      "Done: 20/22 images\n",
      "loading done\n",
      "Saving to .npy files done.\n",
      "Creating test images...\n",
      "10\n",
      "loading done\n",
      "Saving to imgs_test.npy files done.\n"
     ]
    }
   ],
   "source": [
    "# -*- coding:utf-8 -*-\n",
    "\n",
    "from keras.preprocessing.image import img_to_array, load_img\n",
    "import numpy as np\n",
    "import glob\n",
    "\n",
    "\n",
    "class dataProcess(object):\n",
    "    def __init__(self, out_rows, out_cols, data_path=\"./data/train/image\", label_path=\"./data/train/label\",\n",
    "                 test_path=\"./data/test\", npy_path=\"./npydata\", img_type=\"png\"):\n",
    "        self.out_rows = out_rows\n",
    "        self.out_cols = out_cols\n",
    "        self.data_path = data_path\n",
    "        self.label_path = label_path\n",
    "        self.img_type = img_type\n",
    "        self.test_path = test_path\n",
    "        self.npy_path = npy_path\n",
    "\n",
    "    def create_train_data(self):\n",
    "        i = 0\n",
    "        print('Creating training images...')\n",
    "        imgs = glob.glob(self.data_path+\"/*.\"+self.img_type)\n",
    "        imgdatas = np.ndarray((len(imgs), self.out_rows, self.out_cols, 3), dtype=np.uint8)\n",
    "        imglabels = np.ndarray((len(imgs), self.out_rows, self.out_cols, 1), dtype=np.uint8)\n",
    "        \n",
    "        print(len(imgs))\n",
    "        for x in range(len(imgs)):\n",
    "            imgpath = imgs[x]\n",
    "            pic_name = imgpath.split('/')[-1]\n",
    "            labelpath = self.label_path + '/' + pic_name\n",
    "            img = load_img(imgpath, grayscale=False, target_size=[512, 512])\n",
    "            label = load_img(labelpath, grayscale=True, target_size=[512, 512])\n",
    "            img = img_to_array(img)\n",
    "            label = img_to_array(label)\n",
    "            imgdatas[i] = img\n",
    "            imglabels[i] = label\n",
    "            if i % 5 == 0:\n",
    "                print('Done: {0}/{1} images'.format(i, len(imgs)))\n",
    "            i += 1\n",
    "\n",
    "        print('loading done')\n",
    "        np.save(self.npy_path + '/imgs_train.npy', imgdatas)\n",
    "        np.save(self.npy_path + '/imgs_mask_train.npy', imglabels)\n",
    "        print('Saving to .npy files done.')\n",
    "\n",
    "    def create_test_data(self):\n",
    "        i = 0\n",
    "        print('Creating test images...')\n",
    "        imgs = glob.glob(self.test_path + \"/*.\" + self.img_type)\n",
    "        imgdatas = np.ndarray((len(imgs), self.out_rows, self.out_cols, 3), dtype=np.uint8)\n",
    "        testpathlist = []\n",
    "\n",
    "        print(len(imgs))\n",
    "        for imgname in imgs:\n",
    "            testpath = imgname\n",
    "            testpathlist.append(testpath)\n",
    "            img = load_img(testpath, grayscale=False, target_size=[512, 512])\n",
    "            img = img_to_array(img)\n",
    "            imgdatas[i] = img\n",
    "            i += 1\n",
    "\n",
    "        txtname = './results/pic.txt'\n",
    "        with open(txtname, 'w') as f:\n",
    "            for i in range(len(testpathlist)):\n",
    "                f.writelines(testpathlist[i] + '\\n')\n",
    "        print('loading done')\n",
    "        np.save(self.npy_path + '/imgs_test.npy', imgdatas)\n",
    "        print('Saving to imgs_test.npy files done.')\n",
    "\n",
    "    def load_train_data(self):\n",
    "        print('load train images...')\n",
    "        imgs_train = np.load(self.npy_path + \"/imgs_train.npy\")\n",
    "        imgs_mask_train = np.load(self.npy_path + \"/imgs_mask_train.npy\")\n",
    "        imgs_train = imgs_train.astype('float32')\n",
    "        imgs_mask_train = imgs_mask_train.astype('float32')\n",
    "        imgs_train /= 255\n",
    "        imgs_mask_train /= 255\n",
    "        imgs_mask_train[imgs_mask_train > 0.5] = 1  # 白\n",
    "        imgs_mask_train[imgs_mask_train <= 0.5] = 0  # 黑\n",
    "        return imgs_train, imgs_mask_train\n",
    "\n",
    "    def load_test_data(self):\n",
    "        print('-' * 30)\n",
    "        print('load test images...')\n",
    "        print('-' * 30)\n",
    "        imgs_test = np.load(self.npy_path + \"/imgs_test.npy\")\n",
    "        imgs_test = imgs_test.astype('float32')\n",
    "        imgs_test /= 255\n",
    "        return imgs_test\n",
    "\n",
    "\n",
    "\n",
    "if __name__ == \"__main__\":\n",
    "    mydata = dataProcess(512, 512)\n",
    "    mydata.create_train_data()\n",
    "    mydata.create_test_data()\n"
   ]
  }
 ],
 "metadata": {
  "kernelspec": {
   "display_name": "Python 3",
   "language": "python",
   "name": "python3"
  },
  "language_info": {
   "codemirror_mode": {
    "name": "ipython",
    "version": 3
   },
   "file_extension": ".py",
   "mimetype": "text/x-python",
   "name": "python",
   "nbconvert_exporter": "python",
   "pygments_lexer": "ipython3",
   "version": "3.7.3"
  }
 },
 "nbformat": 4,
 "nbformat_minor": 2
}
